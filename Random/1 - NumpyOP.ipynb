{
 "cells": [
  {
   "cell_type": "markdown",
   "metadata": {},
   "source": [
    "# Numpy array operations"
   ]
  },
  {
   "cell_type": "markdown",
   "metadata": {},
   "source": [
    "Numpy significa \"Numerical python\" es una libreria para computación lógica, que contiene arreglos de n dimensiones, integración con c, c++ y más.\n"
   ]
  },
  {
   "cell_type": "markdown",
   "metadata": {},
   "source": [
    "Operaciones en arreglos de numpy"
   ]
  },
  {
   "cell_type": "code",
   "execution_count": 3,
   "metadata": {},
   "outputs": [],
   "source": [
    "import numpy as np "
   ]
  },
  {
   "cell_type": "code",
   "execution_count": 6,
   "metadata": {},
   "outputs": [
    {
     "name": "stdout",
     "output_type": "stream",
     "text": [
      "arr1\n",
      "[[0. 1.]\n",
      " [2. 3.]]\n",
      "\n",
      "Second array:\n",
      "[12 12]\n",
      "\n",
      "Adding the two arrays:\n",
      "[[12. 13.]\n",
      " [14. 15.]]\n",
      "\n",
      "Subtracting the two arrays:\n",
      "[[-12. -11.]\n",
      " [-10.  -9.]]\n",
      "\n",
      "Multiplying the two arrays:\n",
      "[[ 0. 12.]\n",
      " [24. 36.]]\n",
      "\n",
      "Dividing the two arrays:\n",
      "[[0.         0.08333333]\n",
      " [0.16666667 0.25      ]]\n"
     ]
    }
   ],
   "source": [
    "arr1 = np.arange(4, dtype = np.float64).reshape(2,2)\n",
    "\n",
    "print(\"arr1\")\n",
    "print(arr1)\n",
    "\n",
    "print('\\nSecond array:') \n",
    "arr2 = np.array([12, 12]) \n",
    "print(arr2)\n",
    " \n",
    "print('\\nAdding the two arrays:') \n",
    "print(np.add(arr1, arr2))\n",
    " \n",
    "print('\\nSubtracting the two arrays:') \n",
    "print(np.subtract(arr1, arr2))\n",
    " \n",
    "print('\\nMultiplying the two arrays:')\n",
    "print(np.multiply(arr1, arr2))\n",
    " \n",
    "print('\\nDividing the two arrays:')\n",
    "print(np.divide(arr1, arr2))"
   ]
  },
  {
   "cell_type": "code",
   "execution_count": null,
   "metadata": {},
   "outputs": [],
   "source": [
    "# np.reciprocal(arr) devuelve el reciproco de los numeros del arreglo\n",
    "# np.power(arr,x) eleva cada miembro del arreglo a x\n",
    "# np.power(arr,arr2) eleva a los miembros del arreglo 1 a su equivalente del arreglo 2\n",
    "# np.mod(arr, arr2) funciona de manera similar, pero aplicando el modulo"
   ]
  }
 ],
 "metadata": {
  "kernelspec": {
   "display_name": "Python 3",
   "language": "python",
   "name": "python3"
  },
  "language_info": {
   "codemirror_mode": {
    "name": "ipython",
    "version": 3
   },
   "file_extension": ".py",
   "mimetype": "text/x-python",
   "name": "python",
   "nbconvert_exporter": "python",
   "pygments_lexer": "ipython3",
   "version": "3.12.7"
  }
 },
 "nbformat": 4,
 "nbformat_minor": 2
}
